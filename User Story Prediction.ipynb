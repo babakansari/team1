{
 "cells": [
  {
   "cell_type": "markdown",
   "metadata": {},
   "source": [
    "## Author name:\n",
    "\n",
    "<pre> Babak Ansari-Jaberi</pre>\n",
    "<pre> SCS 3253 013 Machine Learning final project</pre>"
   ]
  },
  {
   "cell_type": "markdown",
   "metadata": {},
   "source": [
    "# User Story points(weight) prediction"
   ]
  },
  {
   "cell_type": "markdown",
   "metadata": {},
   "source": [
    "### Data Prepration\n",
    "\n",
    "Load data from development tracking software and prepare it for machine learning.\n",
    "\n",
    "The data would include the work item number, the previously predicted weight and columns of required activities (called labels) to be used for training."
   ]
  },
  {
   "cell_type": "code",
   "execution_count": 92,
   "metadata": {
    "scrolled": false
   },
   "outputs": [],
   "source": [
    "# pip install jira\n",
    "from jira import JIRA\n",
    "import getpass\n",
    "import pandas as pd\n",
    "import numpy as np\n",
    "import os.path\n",
    "from pandas import ExcelWriter\n",
    "from sklearn.metrics import precision_recall_curve\n",
    "import matplotlib.pyplot as plt\n",
    "from sklearn.utils.fixes import signature\n",
    "from sklearn.metrics import roc_curve, auc\n",
    "from sklearn.model_selection import cross_val_score\n",
    "import seaborn as sns\n",
    "from sklearn.multiclass import OneVsRestClassifier\n",
    "from sklearn.model_selection import train_test_split\n",
    "from sklearn.preprocessing import label_binarize\n",
    "from scipy import interp\n",
    "from itertools import cycle\n",
    "import warnings\n",
    "import random\n",
    "from sklearn.preprocessing import StandardScaler\n",
    "from sklearn.metrics import confusion_matrix\n",
    "warnings.filterwarnings('ignore')\n",
    "\n",
    "\n",
    "file_name = 'Team1JiraReportMain.xlsx'\n",
    "sheetname = 'User Story Prediction'\n",
    "ML_NA = 0\n",
    "ML_S = 0.33\n",
    "ML_M = 0.67\n",
    "ML_L = 1\n",
    "ML_Coef = 100\n",
    "jiraFileExist = os.path.exists(file_name)\n",
    "\n",
    "if not jiraFileExist:\n",
    "    #input( \"Username: \")\n",
    "    userName = 'bob.ansari@intelex.com' \n",
    "    password = getpass.getpass(prompt='Username: '+userName+'\\r\\nPassword: ')\n",
    "\n",
    "\n",
    "    auth_jira = JIRA(server = 'https://intelex.atlassian.net', auth=( userName, password ))\n",
    "\n",
    "    # my top 5 issues due by the end of the week, ordered by priority\n",
    "    oh_crap = auth_jira.search_issues('\"Tech Team\"=\"Team 1\" AND Sprint is not EMPTY AND \"Story Points\" is not EMPTY and labels is not EMPTY order by priority desc', maxResults=3000)\n",
    "    print(\"User \"+userName+\" is logged in\")"
   ]
  },
  {
   "cell_type": "code",
   "execution_count": 93,
   "metadata": {
    "scrolled": true
   },
   "outputs": [
    {
     "name": "stdout",
     "output_type": "stream",
     "text": [
      "Data loaded from file: Team1JiraReportMain.xlsx\n"
     ]
    }
   ],
   "source": [
    "# Read data source to create data frame of the labels\n",
    "# Insert labels into data frame\n",
    "if not jiraFileExist:\n",
    "    print(\"Reading from Jira...\")\n",
    "    pd.options.mode.chained_assignment = None  # default='warn'\n",
    "    labels_df = pd.DataFrame(columns=['Labels'])\n",
    "    story_df = pd.DataFrame(columns=['Index', 'Key', 'Summary', 'Points', 'Labels'])\n",
    "    \n",
    "    i = 0\n",
    "    r = 0\n",
    "    for issue in oh_crap:\n",
    "        hasMlTag = False\n",
    "        for label in issue.fields.labels:\n",
    "            if 'ML-' in label:\n",
    "                labels_df.loc[i] = [label]\n",
    "                hasMlTag = True\n",
    "            i = i + 1\n",
    "        if hasMlTag:\n",
    "            story_df.loc[i] = [r, issue.key, issue.fields.summary, issue.fields.customfield_10049, None]\n",
    "            story_df.at[i, 'Labels'] = issue.fields.labels\n",
    "            r = r+1\n",
    "\n",
    "    print(\"Number of records read: \",r)\n",
    "\n",
    "########### With Weight #############\n",
    "#     # Create labels data set\n",
    "#     labels_df = labels_df.drop_duplicates()\n",
    "\n",
    "#     # Labels without ML-X-\n",
    "#     for index, row in labels_df.iterrows():\n",
    "#         if 'ML-S-' in row['Labels'] or 'ML-M-' in row['Labels'] or 'ML-L-' in row['Labels']:\n",
    "#             labels_df.loc[index, 'Labels'] = row['Labels'][5:]\n",
    "    \n",
    "#     labels_df = labels_df.drop_duplicates()\n",
    "#     labels_df = labels_df.set_index('Labels').T.copy()    \n",
    "    \n",
    "    \n",
    "#     #  combined labels table\n",
    "#     combine_df = pd.concat([story_df, labels_df], ignore_index=False)\n",
    "#     for index, row in combine_df.iterrows():\n",
    "#         for label in labels_df.columns:\n",
    "#             combine_df.loc[index, label] = 0 #np.random.normal(ML_NA, 0.01, 1)[0]*100\n",
    "#         for label in row['Labels']:\n",
    "#             if 'ML-' in label:\n",
    "#                 col = label[5:]\n",
    "#                 if 'ML-S-' in label:\n",
    "#                     combine_df.loc[index, col] = ML_S*ML_Coef #np.random.normal(ML_S, 0.05, 1)[0]*100\n",
    "#                 elif 'ML-M-' in label:\n",
    "#                     combine_df.loc[index, col] = ML_M*ML_Coef #np.random.normal(ML_M, 0.10, 1)[0]*100\n",
    "#                 elif 'ML-L-' in label:\n",
    "#                     combine_df.loc[index, col] = ML_L*ML_Coef #np.random.normal(ML_L, 0.05, 1)[0]*100\n",
    "#     df = combine_df.drop(columns=['Labels'])\n",
    "#####################################\n",
    "######### Without Weight ###########\n",
    "    labels_df = labels_df.drop_duplicates()\n",
    "    labels_df = labels_df.set_index('Labels').T\n",
    "    \n",
    "    combine_df = pd.concat([story_df, labels_df], ignore_index=False)\n",
    "    \n",
    "    for index, row in combine_df.iterrows():\n",
    "        #print( row['Key'], row['Points'] )\n",
    "        for label in row['Labels']:\n",
    "            if label in labels_df.columns:\n",
    "                combine_df.loc[index, label] = 1\n",
    "    \n",
    "    df = combine_df.drop(columns=['Labels'])\n",
    "    df.fillna(ML_NA, inplace=True)\n",
    "######################################\n",
    "   \n",
    "    writer = ExcelWriter(file_name)\n",
    "    df.to_excel(writer,sheetname)\n",
    "    writer.save()\n",
    "else:\n",
    "    print(\"Data loaded from file:\",file_name)\n",
    "    df = pd.read_excel(file_name, sheetname)\n"
   ]
  },
  {
   "cell_type": "code",
   "execution_count": 94,
   "metadata": {},
   "outputs": [
    {
     "data": {
      "text/html": [
       "<div>\n",
       "<style scoped>\n",
       "    .dataframe tbody tr th:only-of-type {\n",
       "        vertical-align: middle;\n",
       "    }\n",
       "\n",
       "    .dataframe tbody tr th {\n",
       "        vertical-align: top;\n",
       "    }\n",
       "\n",
       "    .dataframe thead th {\n",
       "        text-align: right;\n",
       "    }\n",
       "</style>\n",
       "<table border=\"1\" class=\"dataframe\">\n",
       "  <thead>\n",
       "    <tr style=\"text-align: right;\">\n",
       "      <th></th>\n",
       "      <th>Index</th>\n",
       "      <th>Key</th>\n",
       "      <th>ML-L-Code-Automation</th>\n",
       "      <th>ML-L-Code-Business</th>\n",
       "      <th>ML-L-Code-UI</th>\n",
       "      <th>ML-L-Studying</th>\n",
       "      <th>ML-L-Test-Automation</th>\n",
       "      <th>ML-L-Test-Manual</th>\n",
       "      <th>ML-M-Code-Automation</th>\n",
       "      <th>ML-M-Code-Business</th>\n",
       "      <th>...</th>\n",
       "      <th>ML-S-Code-Business</th>\n",
       "      <th>ML-S-Code-Script</th>\n",
       "      <th>ML-S-Code-UI</th>\n",
       "      <th>ML-S-Communication</th>\n",
       "      <th>ML-S-Configuration</th>\n",
       "      <th>ML-S-Studying</th>\n",
       "      <th>ML-S-Test-Automation</th>\n",
       "      <th>ML-S-Test-Manual</th>\n",
       "      <th>Points</th>\n",
       "      <th>Summary</th>\n",
       "    </tr>\n",
       "  </thead>\n",
       "  <tbody>\n",
       "    <tr>\n",
       "      <th>8</th>\n",
       "      <td>0</td>\n",
       "      <td>ILX-13044</td>\n",
       "      <td>0</td>\n",
       "      <td>0</td>\n",
       "      <td>0</td>\n",
       "      <td>0</td>\n",
       "      <td>0</td>\n",
       "      <td>0</td>\n",
       "      <td>0</td>\n",
       "      <td>1</td>\n",
       "      <td>...</td>\n",
       "      <td>0</td>\n",
       "      <td>0</td>\n",
       "      <td>0</td>\n",
       "      <td>0</td>\n",
       "      <td>0</td>\n",
       "      <td>0</td>\n",
       "      <td>0</td>\n",
       "      <td>0</td>\n",
       "      <td>3</td>\n",
       "      <td>Logout from V6 or ACTS does not actually logou...</td>\n",
       "    </tr>\n",
       "    <tr>\n",
       "      <th>14</th>\n",
       "      <td>1</td>\n",
       "      <td>ILX-11815</td>\n",
       "      <td>0</td>\n",
       "      <td>0</td>\n",
       "      <td>0</td>\n",
       "      <td>0</td>\n",
       "      <td>0</td>\n",
       "      <td>0</td>\n",
       "      <td>0</td>\n",
       "      <td>1</td>\n",
       "      <td>...</td>\n",
       "      <td>0</td>\n",
       "      <td>0</td>\n",
       "      <td>0</td>\n",
       "      <td>0</td>\n",
       "      <td>0</td>\n",
       "      <td>0</td>\n",
       "      <td>0</td>\n",
       "      <td>0</td>\n",
       "      <td>3</td>\n",
       "      <td>Some of the Alliance admin users are not able ...</td>\n",
       "    </tr>\n",
       "    <tr>\n",
       "      <th>17</th>\n",
       "      <td>2</td>\n",
       "      <td>ILX-11017</td>\n",
       "      <td>0</td>\n",
       "      <td>0</td>\n",
       "      <td>0</td>\n",
       "      <td>0</td>\n",
       "      <td>0</td>\n",
       "      <td>0</td>\n",
       "      <td>0</td>\n",
       "      <td>0</td>\n",
       "      <td>...</td>\n",
       "      <td>1</td>\n",
       "      <td>0</td>\n",
       "      <td>0</td>\n",
       "      <td>1</td>\n",
       "      <td>0</td>\n",
       "      <td>0</td>\n",
       "      <td>0</td>\n",
       "      <td>1</td>\n",
       "      <td>2</td>\n",
       "      <td>DataCollector is not working for PROD sites</td>\n",
       "    </tr>\n",
       "    <tr>\n",
       "      <th>20</th>\n",
       "      <td>3</td>\n",
       "      <td>ILX-11877</td>\n",
       "      <td>0</td>\n",
       "      <td>0</td>\n",
       "      <td>0</td>\n",
       "      <td>0</td>\n",
       "      <td>0</td>\n",
       "      <td>0</td>\n",
       "      <td>0</td>\n",
       "      <td>1</td>\n",
       "      <td>...</td>\n",
       "      <td>0</td>\n",
       "      <td>0</td>\n",
       "      <td>0</td>\n",
       "      <td>0</td>\n",
       "      <td>0</td>\n",
       "      <td>0</td>\n",
       "      <td>0</td>\n",
       "      <td>0</td>\n",
       "      <td>3</td>\n",
       "      <td>Deleting an object inherited from abstract obj...</td>\n",
       "    </tr>\n",
       "    <tr>\n",
       "      <th>28</th>\n",
       "      <td>4</td>\n",
       "      <td>ILX-13509</td>\n",
       "      <td>0</td>\n",
       "      <td>0</td>\n",
       "      <td>0</td>\n",
       "      <td>0</td>\n",
       "      <td>0</td>\n",
       "      <td>0</td>\n",
       "      <td>0</td>\n",
       "      <td>0</td>\n",
       "      <td>...</td>\n",
       "      <td>0</td>\n",
       "      <td>0</td>\n",
       "      <td>1</td>\n",
       "      <td>0</td>\n",
       "      <td>0</td>\n",
       "      <td>0</td>\n",
       "      <td>0</td>\n",
       "      <td>1</td>\n",
       "      <td>2</td>\n",
       "      <td>Login page, request password reset page, reset...</td>\n",
       "    </tr>\n",
       "  </tbody>\n",
       "</table>\n",
       "<p>5 rows × 28 columns</p>\n",
       "</div>"
      ],
      "text/plain": [
       "    Index        Key  ML-L-Code-Automation  ML-L-Code-Business  ML-L-Code-UI  \\\n",
       "8       0  ILX-13044                     0                   0             0   \n",
       "14      1  ILX-11815                     0                   0             0   \n",
       "17      2  ILX-11017                     0                   0             0   \n",
       "20      3  ILX-11877                     0                   0             0   \n",
       "28      4  ILX-13509                     0                   0             0   \n",
       "\n",
       "    ML-L-Studying  ML-L-Test-Automation  ML-L-Test-Manual  \\\n",
       "8               0                     0                 0   \n",
       "14              0                     0                 0   \n",
       "17              0                     0                 0   \n",
       "20              0                     0                 0   \n",
       "28              0                     0                 0   \n",
       "\n",
       "    ML-M-Code-Automation  ML-M-Code-Business  \\\n",
       "8                      0                   1   \n",
       "14                     0                   1   \n",
       "17                     0                   0   \n",
       "20                     0                   1   \n",
       "28                     0                   0   \n",
       "\n",
       "                          ...                          ML-S-Code-Business  \\\n",
       "8                         ...                                           0   \n",
       "14                        ...                                           0   \n",
       "17                        ...                                           1   \n",
       "20                        ...                                           0   \n",
       "28                        ...                                           0   \n",
       "\n",
       "    ML-S-Code-Script  ML-S-Code-UI  ML-S-Communication  ML-S-Configuration  \\\n",
       "8                  0             0                   0                   0   \n",
       "14                 0             0                   0                   0   \n",
       "17                 0             0                   1                   0   \n",
       "20                 0             0                   0                   0   \n",
       "28                 0             1                   0                   0   \n",
       "\n",
       "    ML-S-Studying  ML-S-Test-Automation  ML-S-Test-Manual  Points  \\\n",
       "8               0                     0                 0       3   \n",
       "14              0                     0                 0       3   \n",
       "17              0                     0                 1       2   \n",
       "20              0                     0                 0       3   \n",
       "28              0                     0                 1       2   \n",
       "\n",
       "                                              Summary  \n",
       "8   Logout from V6 or ACTS does not actually logou...  \n",
       "14  Some of the Alliance admin users are not able ...  \n",
       "17        DataCollector is not working for PROD sites  \n",
       "20  Deleting an object inherited from abstract obj...  \n",
       "28  Login page, request password reset page, reset...  \n",
       "\n",
       "[5 rows x 28 columns]"
      ]
     },
     "execution_count": 94,
     "metadata": {},
     "output_type": "execute_result"
    }
   ],
   "source": [
    "#df.describe()\n",
    "df.head()"
   ]
  },
  {
   "cell_type": "code",
   "execution_count": 95,
   "metadata": {
    "scrolled": false
   },
   "outputs": [],
   "source": [
    "def scatter_plot(ml):\n",
    "    f, ax = plt.subplots(1, 2, sharey=False, figsize=(14,5))\n",
    "    sns.regplot(x=df[\"Points\"], y=df[ml], color='yellow', marker='.', ax=ax[0])\n",
    "    cmap = sns.cubehelix_palette(dark=0.5, light=1, as_cmap=True)\n",
    "    sns.scatterplot(x=\"Points\", y=ml,\n",
    "                         hue=ml, size=ml, alpha =0.5,\n",
    "                         sizes=(20, 200), palette = cmap, ax=ax[0],\n",
    "                         legend=\"full\", data=df)\n",
    "    #sns.distplot( df[df[ml]!=0][ml], ax=ax[1] )\n",
    "    sns.distplot( df[ml], ax=ax[1] )\n",
    "    plt.show()\n",
    "\n",
    "\n",
    "# for label in labels_df.columns:\n",
    "#     scatter_plot(label)"
   ]
  },
  {
   "cell_type": "markdown",
   "metadata": {},
   "source": [
    "### Training "
   ]
  },
  {
   "cell_type": "markdown",
   "metadata": {},
   "source": [
    "Divide data into 60% for training and 40% for testing:"
   ]
  },
  {
   "cell_type": "code",
   "execution_count": 96,
   "metadata": {},
   "outputs": [
    {
     "name": "stdout",
     "output_type": "stream",
     "text": [
      "54 train + 36 test\n"
     ]
    }
   ],
   "source": [
    "from sklearn.model_selection import train_test_split\n",
    "\n",
    "train_set, test_set = train_test_split(df, test_size=0.40, random_state=42)\n",
    "print(len(train_set), \"train +\", len(test_set), \"test\")"
   ]
  },
  {
   "cell_type": "markdown",
   "metadata": {},
   "source": [
    "Identify target column and feature variables:"
   ]
  },
  {
   "cell_type": "code",
   "execution_count": 97,
   "metadata": {},
   "outputs": [],
   "source": [
    "target = 'Points'\n",
    "features = list(train_set.columns)\n",
    "features = [f for f in features if f!=target and f!='Index' and f!='Key' and f!='Summary']\n",
    "\n",
    "# Split data into train and test sets\n",
    "X_tr = train_set[features]\n",
    "y_tr = train_set[[target]]\n",
    "\n",
    "X_te = test_set[features]\n",
    "y_te = test_set[[target]]"
   ]
  },
  {
   "cell_type": "code",
   "execution_count": 98,
   "metadata": {},
   "outputs": [],
   "source": [
    "# Encode points using one hot encoder\n",
    "from sklearn.preprocessing import OneHotEncoder\n",
    "\n",
    "points_tr = train_set[[target]]\n",
    "\n",
    "cat_encoder = OneHotEncoder(sparse=False)\n",
    "\n",
    "points_tr_fit = cat_encoder.fit(points_tr)\n",
    "\n",
    "points_tr_cat = points_tr_fit.transform(points_tr)\n",
    "\n",
    "points_te = test_set[[target]]\n",
    "points_te_cat = cat_encoder.fit_transform(points_te)\n",
    "\n",
    "points_te_cat\n",
    "y_tr = points_tr_cat\n",
    "y_te = points_te_cat\n"
   ]
  },
  {
   "cell_type": "markdown",
   "metadata": {},
   "source": [
    "Define training model liberaries and a function for finding best parameters for a model using for Grid Search:"
   ]
  },
  {
   "cell_type": "code",
   "execution_count": 99,
   "metadata": {
    "scrolled": true
   },
   "outputs": [],
   "source": [
    "import pandas\n",
    "\n",
    "from sklearn import model_selection\n",
    "from sklearn.linear_model import LogisticRegression\n",
    "from sklearn.tree import DecisionTreeClassifier\n",
    "from sklearn.svm import SVC\n",
    "from sklearn.ensemble import RandomForestClassifier, AdaBoostClassifier, VotingClassifier\n",
    "from sklearn.naive_bayes import GaussianNB\n",
    "from sklearn.ensemble import ExtraTreesClassifier\n",
    "from sklearn.model_selection import GridSearchCV\n",
    "#from sklearn.cross_validation import KFold\n",
    "from sklearn.neighbors import KNeighborsClassifier\n",
    "from sklearn.svm import LinearSVC\n",
    "from sklearn.neural_network import MLPClassifier\n",
    "from nltk.classify.scikitlearn import SklearnClassifier\n",
    "\n",
    "pd.options.mode.chained_assignment = None \n",
    "\n",
    "def SearchBestParameters(model, parameters):\n",
    "    y = df[[target]]\n",
    "    #yy = label_binarize(y, classes=[0, 1, 2 , 3, 4])\n",
    "    yy = label_binarize(y, classes=[1, 2, 3 , 5, 8])\n",
    "    n_classes = yy.shape[1]\n",
    "    classifier = OneVsRestClassifier(model)\n",
    "\n",
    "    #gs = GridSearchCV(classifier, parameters, cv=5, scoring='r2') # Using R^2 (coefficient of determination)\n",
    "    gs = GridSearchCV(classifier, parameters, cv=5) # Using R^2 (coefficient of determination)\n",
    "    gs.fit(X_tr, y_tr).decision_function(X_te)    \n",
    "    \n",
    "    #print(classifier.get_params().keys())\n",
    "    model_params = {}\n",
    "    for param in gs.best_params_:\n",
    "        model_param = param.replace(\"estimator__\", \"\")\n",
    "        model_params[model_param] = gs.best_params_[param]\n",
    "    print(type(model).__name__, ': ', model_params, 'with score:', gs.best_score_)\n",
    "    return model_params"
   ]
  },
  {
   "cell_type": "markdown",
   "metadata": {},
   "source": [
    "Using Grid Search to find the best parameters for `Logistic Regression` classifier:"
   ]
  },
  {
   "cell_type": "code",
   "execution_count": 100,
   "metadata": {},
   "outputs": [
    {
     "name": "stdout",
     "output_type": "stream",
     "text": [
      "LogisticRegression :  {'C': 100, 'multi_class': 'ovr', 'solver': 'newton-cg'} with score: 0.5740740740740741\n"
     ]
    }
   ],
   "source": [
    "grid = {\n",
    "    'estimator__C': [0.1, 10, 100, 1000],\n",
    "    'estimator__solver': ['newton-cg', 'lbfgs', 'sag', 'saga'],\n",
    "    'estimator__multi_class': ['ovr', 'multinomial']\n",
    "}\n",
    "logistic = LogisticRegression()\n",
    "best_params = SearchBestParameters(logistic, grid)\n",
    "logistic = LogisticRegression(**best_params)   \n",
    "    "
   ]
  },
  {
   "cell_type": "markdown",
   "metadata": {},
   "source": [
    "Using Grid Search to find the best parameters for `SVC` classifier:"
   ]
  },
  {
   "cell_type": "code",
   "execution_count": 101,
   "metadata": {},
   "outputs": [
    {
     "name": "stdout",
     "output_type": "stream",
     "text": [
      "SVC :  {'C': 100, 'kernel': 'rbf'} with score: 0.5370370370370371\n"
     ]
    }
   ],
   "source": [
    "grid={\n",
    "    'estimator__C': [ 0.1, 1, 10, 100, 100],\n",
    "    #'estimator__gamma': [ 0.1,1, 10],\n",
    "    'estimator__kernel': [ 'linear', 'poly', 'rbf']\n",
    "}\n",
    "svc = SVC(probability=True)\n",
    "best_params = SearchBestParameters(svc, grid)\n",
    "svc = SVC(probability=True, **best_params)"
   ]
  },
  {
   "cell_type": "code",
   "execution_count": 102,
   "metadata": {},
   "outputs": [
    {
     "name": "stdout",
     "output_type": "stream",
     "text": [
      "LinearSVC :  {'C': 5, 'multi_class': 'ovr'} with score: 0.5370370370370371\n"
     ]
    }
   ],
   "source": [
    "grid={\n",
    "    'estimator__C': [0.1, 5, 10, 15],\n",
    "    'estimator__multi_class': ['ovr', 'crammer_singer'], \n",
    "}\n",
    "linearSVC = LinearSVC()\n",
    "best_params = SearchBestParameters(linearSVC, grid)\n",
    "linearSVC = LinearSVC(**best_params)"
   ]
  },
  {
   "cell_type": "markdown",
   "metadata": {},
   "source": [
    "Add all models to ensemble and one of good one to Ada Boost classifier:"
   ]
  },
  {
   "cell_type": "markdown",
   "metadata": {},
   "source": [
    "Create `score_model` function to draw the classifiers performance:"
   ]
  },
  {
   "cell_type": "code",
   "execution_count": 103,
   "metadata": {},
   "outputs": [],
   "source": [
    "def one_hot_decode(coded):\n",
    "    decoded = coded.dot(cat_encoder.active_features_).astype(int)\n",
    "    \n",
    "    try:\n",
    "        decoded[:] = [1 if x==0 else 8 if x>8 else x for x in decoded]\n",
    "    except TypeError:\n",
    "        return 1 if decoded==0 else 8 if decoded>8 else decoded\n",
    "    return decoded\n",
    "\n",
    "def display_scores(scores):\n",
    "    print(\"\\033[1mCross Validation Score:\\033[0m \\n\\t{} (+/- {})\".format(round(scores.mean(),2), round(scores.std(),2)))\n",
    "\n",
    "#one_hot_decode(np.array([[0,1,1,1,1], [0,1,1,0,0], [0,0,0,0,0], [1,1,1,1,1]]))\n"
   ]
  },
  {
   "cell_type": "code",
   "execution_count": 104,
   "metadata": {},
   "outputs": [
    {
     "data": {
      "text/plain": [
       "array([ 1,  2,  3,  5,  8, 13, 21])"
      ]
     },
     "execution_count": 104,
     "metadata": {},
     "output_type": "execute_result"
    }
   ],
   "source": [
    "def create_fibonacci_numbers(size):\n",
    "    fibonacci_numbers = [1, 1]\n",
    "    for i in range(2,size):\n",
    "        fibonacci_numbers.append((fibonacci_numbers[i-1]+fibonacci_numbers[i-2]))\n",
    "\n",
    "    #fibonacci_numbers[0] = 0\n",
    "    fibonacci_numbers = np.delete(fibonacci_numbers, 0)\n",
    "\n",
    "    np.array(map(str, fibonacci_numbers))\n",
    "    fibonacci_numbers = np.array(fibonacci_numbers)\n",
    "    return fibonacci_numbers\n",
    "\n",
    "create_fibonacci_numbers(8)"
   ]
  },
  {
   "cell_type": "code",
   "execution_count": null,
   "metadata": {},
   "outputs": [],
   "source": []
  },
  {
   "cell_type": "code",
   "execution_count": 105,
   "metadata": {},
   "outputs": [],
   "source": [
    "def F(n):\n",
    "    if n == 0: return 0\n",
    "    elif n == 1: return 1\n",
    "    else: return F(n-1)+F(n-2)\n",
    "    \n",
    "def score_model(model): \n",
    "    print('<< \\033[1m', type(model).__name__, '\\033[0m>>')\n",
    "    # Binarize the output\n",
    "    y = df[[target]]\n",
    "    #classes=[0, 1, 2 , 3, 4]\n",
    "    classes=[1, 2, 3 , 5, 8]\n",
    "    yy = label_binarize(y, classes=classes)\n",
    "    n_classes = yy.shape[1]\n",
    "\n",
    "    classifier = OneVsRestClassifier(model)\n",
    "    \n",
    "    y_score = classifier.fit(X_tr, y_tr).decision_function(X_te) \n",
    "    # plot the roc curve\n",
    "    if hasattr(model, 'predict_proba'):\n",
    "        # Binarize the output\n",
    "        lw=2\n",
    "        fpr = dict()\n",
    "        tpr = dict()\n",
    "        roc_auc = dict()\n",
    "        for i in range(n_classes):\n",
    "            fpr[i], tpr[i], _ = roc_curve(y_te[:, i], y_score[:, i], pos_label=1)\n",
    "            roc_auc[i] = auc(fpr[i], tpr[i])\n",
    "\n",
    "        # Compute macro-average ROC curve and ROC area\n",
    "        # First aggregate all false positive rates\n",
    "        all_fpr = np.unique(np.concatenate([fpr[i] for i in range(n_classes)]))\n",
    "\n",
    "        # Then interpolate all ROC curves at this points\n",
    "        mean_tpr = np.zeros_like(all_fpr)\n",
    "        for i in range(n_classes):\n",
    "            mean_tpr += interp(all_fpr, fpr[i], tpr[i])\n",
    "\n",
    "        # Compute micro-average ROC curve and ROC area\n",
    "        fpr[\"micro\"], tpr[\"micro\"], _ = roc_curve(y_te.ravel(), y_score.ravel(), pos_label=1)\n",
    "        roc_auc[\"micro\"] = auc(fpr[\"micro\"], tpr[\"micro\"])\n",
    "\n",
    "        # Finally average it and compute AUC\n",
    "        mean_tpr /= n_classes\n",
    "\n",
    "        fpr[\"macro\"] = all_fpr\n",
    "        tpr[\"macro\"] = mean_tpr\n",
    "        roc_auc[\"macro\"] = auc(fpr[\"macro\"], tpr[\"macro\"])\n",
    "\n",
    "        # Plot all ROC curves\n",
    "        plt.figure(figsize=(8, 6))\n",
    "        plt.plot(fpr[\"micro\"], tpr[\"micro\"],\n",
    "                 label='micro-average ROC curve (area = {0:0.2f})'\n",
    "                       ''.format(roc_auc[\"micro\"]),\n",
    "                 color='deeppink', linestyle=':', linewidth=4)\n",
    "\n",
    "        plt.plot(fpr[\"macro\"], tpr[\"macro\"],\n",
    "                 label='macro-average ROC curve (area = {0:0.2f})'\n",
    "                       ''.format(roc_auc[\"macro\"]),\n",
    "                 color='navy', linestyle=':', linewidth=4)\n",
    "\n",
    "        colors = cycle(['aqua', 'darkorange', 'cornflowerblue', 'blue', 'red', 'green'])\n",
    "        for i, color in zip(range(n_classes), colors):\n",
    "            plt.plot(fpr[i], tpr[i], color=color, lw=lw,\n",
    "                     label='ROC curve of class {0} (area = {1:0.2f})'\n",
    "                     ''.format(F(i+2), roc_auc[i]))\n",
    "\n",
    "        plt.plot([0, 1], [0, 1], 'k--', lw=lw)\n",
    "        plt.xlim([0.0, 1.0])\n",
    "        plt.ylim([0.0, 1.05])\n",
    "        plt.xlabel('False Positive Rate')\n",
    "        plt.ylabel('True Positive Rate')\n",
    "        plt.legend(loc=\"lower right\")\n",
    "        plt.grid()\n",
    "        plt.xticks(np.arange(0,1.1,0.1))\n",
    "        plt.yticks(np.arange(0,1.1,0.1))\n",
    "        plt.show()\n",
    "\n",
    "    # Test vs prediction scatter plot\n",
    "    y_score_c = classifier.predict(X_te)\n",
    "\n",
    "    decoded_y_te = one_hot_decode(y_te)\n",
    "    decoded_y_score_c = one_hot_decode(y_score_c)\n",
    "    \n",
    "    #print(decoded_y_te.shape)\n",
    "    #print(decoded_y_score_c.shape)\n",
    "    \n",
    "    cm = confusion_matrix(decoded_y_te, decoded_y_score_c)\n",
    "        \n",
    "    df_cm = pd.DataFrame(cm)\n",
    "    xy_lbl = create_fibonacci_numbers(cm.shape[0]+1)    \n",
    "    df_cm.columns = xy_lbl\n",
    "    df_cm = df_cm.set_index(xy_lbl)\n",
    "    \n",
    "    plt.figure(figsize = (7,5))\n",
    "    sns.heatmap(df_cm, annot=True)\n",
    "    plt.show()\n",
    "\n",
    "    # Test and prediction distribution plot\n",
    "    sns.distplot( decoded_y_te )\n",
    "    sns.distplot( decoded_y_score_c )\n",
    "    plt.show()\n",
    "        \n",
    "    # Prediction Score\n",
    "    print('\\033[1mEstimator Score:\\033[0m\\n\\tTraining: ', round(classifier.score(X_tr, y_tr), 2), \n",
    "            '\\n\\tTest : ', round(classifier.score(X_te, y_te),2))\n",
    "\n",
    "    scores = cross_val_score(classifier, X_tr, y_tr,scoring=\"accuracy\", cv=5)\n",
    "\n",
    "    display_scores(scores)\n",
    "    print('_______________________________________________________________________')\n",
    "    return df_cm"
   ]
  },
  {
   "cell_type": "code",
   "execution_count": 106,
   "metadata": {},
   "outputs": [],
   "source": [
    "# create the sub models\n",
    "\n",
    "#logistic = LogisticRegression(C=0.001, solver='newton-cg',multi_class='multinomial')\n",
    "#svc = SVC(C=10, gamma=0.01, kernel='poly', probability=True) \n",
    "#svc = SVC(C=100,kernel='rbf', probability=True) \n",
    "#svc = SVC(kernel='rbf', probability=True) \n",
    "#linearSVC = LinearSVC(C=2, multi_class='crammer_singer', tol= 1000.0)\n",
    "\n",
    "#randomForest = RandomForestClassifier(criterion='entropy', max_depth=7, max_features='auto', n_estimators=10)\n",
    "\n",
    "adaBoost = AdaBoostClassifier(logistic)  \n",
    "#adaBoost = AdaBoostClassifier(linearSVC,algorithm='SAMME')  \n",
    "#adaBoost = AdaBoostClassifier(svc,algorithm='SAMME', learning_rate=5, n_estimators=100)\n"
   ]
  },
  {
   "cell_type": "markdown",
   "metadata": {},
   "source": [
    "Using `score_model` to plot the models accuracy:"
   ]
  },
  {
   "cell_type": "code",
   "execution_count": 107,
   "metadata": {
    "scrolled": false
   },
   "outputs": [
    {
     "name": "stdout",
     "output_type": "stream",
     "text": [
      "<< \u001b[1m LogisticRegression \u001b[0m>>\n"
     ]
    },
    {
     "data": {
      "image/png": "[encoded data removed]",
      "text/plain": [
       "<Figure size 576x432 with 1 Axes>"
      ]
     },
     "metadata": {
      "needs_background": "light"
     },
     "output_type": "display_data"
    },
    {
     "data": {
      "image/png": "[encoded data removed]",
      "text/plain": [
       "<Figure size 504x360 with 2 Axes>"
      ]
     },
     "metadata": {
      "needs_background": "light"
     },
     "output_type": "display_data"
    },
    {
     "data": {
      "image/png": "[encoded data removed]",
      "text/plain": [
       "<Figure size 432x288 with 1 Axes>"
      ]
     },
     "metadata": {
      "needs_background": "light"
     },
     "output_type": "display_data"
    },
    {
     "name": "stdout",
     "output_type": "stream",
     "text": [
      "\u001b[1mEstimator Score:\u001b[0m\n",
      "\tTraining:  0.96 \n",
      "\tTest :  0.69\n",
      "\u001b[1mCross Validation Score:\u001b[0m \n",
      "\t0.57 (+/- 0.2)\n",
      "_______________________________________________________________________\n",
      "<< \u001b[1m SVC \u001b[0m>>\n"
     ]
    },
    {
     "data": {
      "image/png": "[encoded data removed]",
      "text/plain": [
       "<Figure size 576x432 with 1 Axes>"
      ]
     },
     "metadata": {
      "needs_background": "light"
     },
     "output_type": "display_data"
    },
    {
     "data": {
      "image/png": "[encoded data removed]",
      "text/plain": [
       "<Figure size 504x360 with 2 Axes>"
      ]
     },
     "metadata": {
      "needs_background": "light"
     },
     "output_type": "display_data"
    },
    {
     "data": {
      "image/png": "[encoded data removed]",
      "text/plain": [
       "<Figure size 432x288 with 1 Axes>"
      ]
     },
     "metadata": {
      "needs_background": "light"
     },
     "output_type": "display_data"
    },
    {
     "name": "stdout",
     "output_type": "stream",
     "text": [
      "\u001b[1mEstimator Score:\u001b[0m\n",
      "\tTraining:  0.98 \n",
      "\tTest :  0.69\n",
      "\u001b[1mCross Validation Score:\u001b[0m \n",
      "\t0.53 (+/- 0.17)\n",
      "_______________________________________________________________________\n",
      "<< \u001b[1m AdaBoostClassifier \u001b[0m>>\n"
     ]
    },
    {
     "data": {
      "image/png": "[encoded data removed]",
      "text/plain": [
       "<Figure size 576x432 with 1 Axes>"
      ]
     },
     "metadata": {
      "needs_background": "light"
     },
     "output_type": "display_data"
    },
    {
     "data": {
      "image/png": "[encoded data removed]",
      "text/plain": [
       "<Figure size 504x360 with 2 Axes>"
      ]
     },
     "metadata": {
      "needs_background": "light"
     },
     "output_type": "display_data"
    },
    {
     "data": {
      "image/png": "[encoded data removed]",
      "text/plain": [
       "<Figure size 432x288 with 1 Axes>"
      ]
     },
     "metadata": {
      "needs_background": "light"
     },
     "output_type": "display_data"
    },
    {
     "name": "stdout",
     "output_type": "stream",
     "text": [
      "\u001b[1mEstimator Score:\u001b[0m\n",
      "\tTraining:  0.94 \n",
      "\tTest :  0.61\n",
      "\u001b[1mCross Validation Score:\u001b[0m \n",
      "\t0.49 (+/- 0.23)\n",
      "_______________________________________________________________________\n",
      "<< \u001b[1m LinearSVC \u001b[0m>>\n"
     ]
    },
    {
     "data": {
      "image/png": "[encoded data removed]",
      "text/plain": [
       "<Figure size 504x360 with 2 Axes>"
      ]
     },
     "metadata": {
      "needs_background": "light"
     },
     "output_type": "display_data"
    },
    {
     "data": {
      "image/png": "[encoded data removed]",
      "text/plain": [
       "<Figure size 432x288 with 1 Axes>"
      ]
     },
     "metadata": {
      "needs_background": "light"
     },
     "output_type": "display_data"
    },
    {
     "name": "stdout",
     "output_type": "stream",
     "text": [
      "\u001b[1mEstimator Score:\u001b[0m\n",
      "\tTraining:  0.96 \n",
      "\tTest :  0.69\n",
      "\u001b[1mCross Validation Score:\u001b[0m \n",
      "\t0.53 (+/- 0.21)\n",
      "_______________________________________________________________________\n"
     ]
    },
    {
     "data": {
      "text/html": [
       "<div>\n",
       "<style scoped>\n",
       "    .dataframe tbody tr th:only-of-type {\n",
       "        vertical-align: middle;\n",
       "    }\n",
       "\n",
       "    .dataframe tbody tr th {\n",
       "        vertical-align: top;\n",
       "    }\n",
       "\n",
       "    .dataframe thead th {\n",
       "        text-align: right;\n",
       "    }\n",
       "</style>\n",
       "<table border=\"1\" class=\"dataframe\">\n",
       "  <thead>\n",
       "    <tr style=\"text-align: right;\">\n",
       "      <th></th>\n",
       "      <th>1</th>\n",
       "      <th>2</th>\n",
       "      <th>3</th>\n",
       "      <th>5</th>\n",
       "      <th>8</th>\n",
       "    </tr>\n",
       "  </thead>\n",
       "  <tbody>\n",
       "    <tr>\n",
       "      <th>1</th>\n",
       "      <td>1</td>\n",
       "      <td>1</td>\n",
       "      <td>0</td>\n",
       "      <td>0</td>\n",
       "      <td>0</td>\n",
       "    </tr>\n",
       "    <tr>\n",
       "      <th>2</th>\n",
       "      <td>0</td>\n",
       "      <td>7</td>\n",
       "      <td>0</td>\n",
       "      <td>0</td>\n",
       "      <td>0</td>\n",
       "    </tr>\n",
       "    <tr>\n",
       "      <th>3</th>\n",
       "      <td>0</td>\n",
       "      <td>1</td>\n",
       "      <td>15</td>\n",
       "      <td>0</td>\n",
       "      <td>1</td>\n",
       "    </tr>\n",
       "    <tr>\n",
       "      <th>5</th>\n",
       "      <td>2</td>\n",
       "      <td>0</td>\n",
       "      <td>3</td>\n",
       "      <td>2</td>\n",
       "      <td>0</td>\n",
       "    </tr>\n",
       "    <tr>\n",
       "      <th>8</th>\n",
       "      <td>2</td>\n",
       "      <td>0</td>\n",
       "      <td>0</td>\n",
       "      <td>0</td>\n",
       "      <td>1</td>\n",
       "    </tr>\n",
       "  </tbody>\n",
       "</table>\n",
       "</div>"
      ],
      "text/plain": [
       "   1  2   3  5  8\n",
       "1  1  1   0  0  0\n",
       "2  0  7   0  0  0\n",
       "3  0  1  15  0  1\n",
       "5  2  0   3  2  0\n",
       "8  2  0   0  0  1"
      ]
     },
     "execution_count": 107,
     "metadata": {},
     "output_type": "execute_result"
    }
   ],
   "source": [
    "score_model(logistic)\n",
    "score_model(svc)\n",
    "score_model(adaBoost)\n",
    "score_model(linearSVC)\n"
   ]
  },
  {
   "cell_type": "markdown",
   "metadata": {},
   "source": [
    "### Prediction"
   ]
  },
  {
   "cell_type": "markdown",
   "metadata": {},
   "source": [
    "Get the User Story number and predict its size base on the given `Labels`:"
   ]
  },
  {
   "cell_type": "code",
   "execution_count": 123,
   "metadata": {},
   "outputs": [
    {
     "data": {
      "text/html": [
       "<div>\n",
       "<style scoped>\n",
       "    .dataframe tbody tr th:only-of-type {\n",
       "        vertical-align: middle;\n",
       "    }\n",
       "\n",
       "    .dataframe tbody tr th {\n",
       "        vertical-align: top;\n",
       "    }\n",
       "\n",
       "    .dataframe thead th {\n",
       "        text-align: right;\n",
       "    }\n",
       "</style>\n",
       "<table border=\"1\" class=\"dataframe\">\n",
       "  <thead>\n",
       "    <tr style=\"text-align: right;\">\n",
       "      <th></th>\n",
       "      <th>Index</th>\n",
       "      <th>Key</th>\n",
       "      <th>ML-L-Code-Automation</th>\n",
       "      <th>ML-L-Code-Business</th>\n",
       "      <th>ML-L-Code-UI</th>\n",
       "      <th>ML-L-Studying</th>\n",
       "      <th>ML-L-Test-Automation</th>\n",
       "      <th>ML-L-Test-Manual</th>\n",
       "      <th>ML-M-Code-Automation</th>\n",
       "      <th>ML-M-Code-Business</th>\n",
       "      <th>...</th>\n",
       "      <th>ML-S-Code-Business</th>\n",
       "      <th>ML-S-Code-Script</th>\n",
       "      <th>ML-S-Code-UI</th>\n",
       "      <th>ML-S-Communication</th>\n",
       "      <th>ML-S-Configuration</th>\n",
       "      <th>ML-S-Studying</th>\n",
       "      <th>ML-S-Test-Automation</th>\n",
       "      <th>ML-S-Test-Manual</th>\n",
       "      <th>Points</th>\n",
       "      <th>Summary</th>\n",
       "    </tr>\n",
       "  </thead>\n",
       "  <tbody>\n",
       "    <tr>\n",
       "      <th>8</th>\n",
       "      <td>0</td>\n",
       "      <td>ILX-13044</td>\n",
       "      <td>0</td>\n",
       "      <td>0</td>\n",
       "      <td>0</td>\n",
       "      <td>0</td>\n",
       "      <td>0</td>\n",
       "      <td>0</td>\n",
       "      <td>0</td>\n",
       "      <td>1</td>\n",
       "      <td>...</td>\n",
       "      <td>0</td>\n",
       "      <td>0</td>\n",
       "      <td>0</td>\n",
       "      <td>0</td>\n",
       "      <td>0</td>\n",
       "      <td>0</td>\n",
       "      <td>0</td>\n",
       "      <td>0</td>\n",
       "      <td>3</td>\n",
       "      <td>Logout from V6 or ACTS does not actually logou...</td>\n",
       "    </tr>\n",
       "    <tr>\n",
       "      <th>14</th>\n",
       "      <td>1</td>\n",
       "      <td>ILX-11815</td>\n",
       "      <td>0</td>\n",
       "      <td>0</td>\n",
       "      <td>0</td>\n",
       "      <td>0</td>\n",
       "      <td>0</td>\n",
       "      <td>0</td>\n",
       "      <td>0</td>\n",
       "      <td>1</td>\n",
       "      <td>...</td>\n",
       "      <td>0</td>\n",
       "      <td>0</td>\n",
       "      <td>0</td>\n",
       "      <td>0</td>\n",
       "      <td>0</td>\n",
       "      <td>0</td>\n",
       "      <td>0</td>\n",
       "      <td>0</td>\n",
       "      <td>3</td>\n",
       "      <td>Some of the Alliance admin users are not able ...</td>\n",
       "    </tr>\n",
       "    <tr>\n",
       "      <th>17</th>\n",
       "      <td>2</td>\n",
       "      <td>ILX-11017</td>\n",
       "      <td>0</td>\n",
       "      <td>0</td>\n",
       "      <td>0</td>\n",
       "      <td>0</td>\n",
       "      <td>0</td>\n",
       "      <td>0</td>\n",
       "      <td>0</td>\n",
       "      <td>0</td>\n",
       "      <td>...</td>\n",
       "      <td>1</td>\n",
       "      <td>0</td>\n",
       "      <td>0</td>\n",
       "      <td>1</td>\n",
       "      <td>0</td>\n",
       "      <td>0</td>\n",
       "      <td>0</td>\n",
       "      <td>1</td>\n",
       "      <td>2</td>\n",
       "      <td>DataCollector is not working for PROD sites</td>\n",
       "    </tr>\n",
       "    <tr>\n",
       "      <th>20</th>\n",
       "      <td>3</td>\n",
       "      <td>ILX-11877</td>\n",
       "      <td>0</td>\n",
       "      <td>0</td>\n",
       "      <td>0</td>\n",
       "      <td>0</td>\n",
       "      <td>0</td>\n",
       "      <td>0</td>\n",
       "      <td>0</td>\n",
       "      <td>1</td>\n",
       "      <td>...</td>\n",
       "      <td>0</td>\n",
       "      <td>0</td>\n",
       "      <td>0</td>\n",
       "      <td>0</td>\n",
       "      <td>0</td>\n",
       "      <td>0</td>\n",
       "      <td>0</td>\n",
       "      <td>0</td>\n",
       "      <td>3</td>\n",
       "      <td>Deleting an object inherited from abstract obj...</td>\n",
       "    </tr>\n",
       "    <tr>\n",
       "      <th>28</th>\n",
       "      <td>4</td>\n",
       "      <td>ILX-13509</td>\n",
       "      <td>0</td>\n",
       "      <td>0</td>\n",
       "      <td>0</td>\n",
       "      <td>0</td>\n",
       "      <td>0</td>\n",
       "      <td>0</td>\n",
       "      <td>0</td>\n",
       "      <td>0</td>\n",
       "      <td>...</td>\n",
       "      <td>0</td>\n",
       "      <td>0</td>\n",
       "      <td>1</td>\n",
       "      <td>0</td>\n",
       "      <td>0</td>\n",
       "      <td>0</td>\n",
       "      <td>0</td>\n",
       "      <td>1</td>\n",
       "      <td>2</td>\n",
       "      <td>Login page, request password reset page, reset...</td>\n",
       "    </tr>\n",
       "  </tbody>\n",
       "</table>\n",
       "<p>5 rows × 28 columns</p>\n",
       "</div>"
      ],
      "text/plain": [
       "    Index        Key  ML-L-Code-Automation  ML-L-Code-Business  ML-L-Code-UI  \\\n",
       "8       0  ILX-13044                     0                   0             0   \n",
       "14      1  ILX-11815                     0                   0             0   \n",
       "17      2  ILX-11017                     0                   0             0   \n",
       "20      3  ILX-11877                     0                   0             0   \n",
       "28      4  ILX-13509                     0                   0             0   \n",
       "\n",
       "    ML-L-Studying  ML-L-Test-Automation  ML-L-Test-Manual  \\\n",
       "8               0                     0                 0   \n",
       "14              0                     0                 0   \n",
       "17              0                     0                 0   \n",
       "20              0                     0                 0   \n",
       "28              0                     0                 0   \n",
       "\n",
       "    ML-M-Code-Automation  ML-M-Code-Business  \\\n",
       "8                      0                   1   \n",
       "14                     0                   1   \n",
       "17                     0                   0   \n",
       "20                     0                   1   \n",
       "28                     0                   0   \n",
       "\n",
       "                          ...                          ML-S-Code-Business  \\\n",
       "8                         ...                                           0   \n",
       "14                        ...                                           0   \n",
       "17                        ...                                           1   \n",
       "20                        ...                                           0   \n",
       "28                        ...                                           0   \n",
       "\n",
       "    ML-S-Code-Script  ML-S-Code-UI  ML-S-Communication  ML-S-Configuration  \\\n",
       "8                  0             0                   0                   0   \n",
       "14                 0             0                   0                   0   \n",
       "17                 0             0                   1                   0   \n",
       "20                 0             0                   0                   0   \n",
       "28                 0             1                   0                   0   \n",
       "\n",
       "    ML-S-Studying  ML-S-Test-Automation  ML-S-Test-Manual  Points  \\\n",
       "8               0                     0                 0       3   \n",
       "14              0                     0                 0       3   \n",
       "17              0                     0                 1       2   \n",
       "20              0                     0                 0       3   \n",
       "28              0                     0                 1       2   \n",
       "\n",
       "                                              Summary  \n",
       "8   Logout from V6 or ACTS does not actually logou...  \n",
       "14  Some of the Alliance admin users are not able ...  \n",
       "17        DataCollector is not working for PROD sites  \n",
       "20  Deleting an object inherited from abstract obj...  \n",
       "28  Login page, request password reset page, reset...  \n",
       "\n",
       "[5 rows x 28 columns]"
      ]
     },
     "execution_count": 123,
     "metadata": {},
     "output_type": "execute_result"
    }
   ],
   "source": [
    "prediction_df = df.copy()\n",
    "prediction_df = prediction_df.drop(columns=['Index', 'Key', 'Points', 'Summary']).iloc[0:0]\n",
    "prediction_df\n",
    "df.head()\n"
   ]
  },
  {
   "cell_type": "code",
   "execution_count": 109,
   "metadata": {},
   "outputs": [],
   "source": [
    "def check_auth_jira_defined():\n",
    "    try:\n",
    "        return not auth_jira is None\n",
    "    except:\n",
    "        return True"
   ]
  },
  {
   "cell_type": "code",
   "execution_count": 116,
   "metadata": {},
   "outputs": [
    {
     "name": "stdout",
     "output_type": "stream",
     "text": [
      "Username: bob.ansari@intelex.com\n",
      "Password: ········\n",
      "User bob.ansari@intelex.com is authenticated!\n"
     ]
    }
   ],
   "source": [
    "userName = 'bob.ansari@intelex.com' \n",
    "#if not check_auth_jira_defined():\n",
    "if True:\n",
    "    password = getpass.getpass(prompt='Username: '+userName+'\\r\\nPassword: ')\n",
    "    if not password:\n",
    "        raise ValueError('Please provide password.')\n",
    "    auth_jira = JIRA(server = 'https://intelex.atlassian.net', auth=( userName, password ))\n",
    "    print('User '+userName+' is authenticated!')"
   ]
  },
  {
   "cell_type": "markdown",
   "metadata": {},
   "source": [
    "Prepare the input data for prediction:"
   ]
  },
  {
   "cell_type": "code",
   "execution_count": 117,
   "metadata": {},
   "outputs": [
    {
     "name": "stdout",
     "output_type": "stream",
     "text": [
      "User Story # ILX-12181\n",
      "Predicting points for \u001b[1m\u001b[94m` [TECH CHORE] - Improving Content Repo for Automation, Service and CI Build `\u001b[0m User Story.\n",
      "Labels are: ['ML-L-Code-Automation', 'ML-M-Configuration', 'ML-M-Studying', 'ML-M-Test-Automation', 'build-investigation']\n"
     ]
    }
   ],
   "source": [
    "story = input( \"User Story # ILX-\")\n",
    "#story = '8397' 3pts\n",
    "#story = '10559' 2pts\n",
    "#story = '9885' 8pts\n",
    "\n",
    "issue = auth_jira.issue('ILX-'+story)\n",
    "print('Predicting points for \\033[1m\\033[94m`',issue.fields.summary ,'`\\033[0m User Story.')\n",
    "print('Labels are: ' + str(issue.fields.labels))"
   ]
  },
  {
   "cell_type": "code",
   "execution_count": 126,
   "metadata": {},
   "outputs": [
    {
     "name": "stdout",
     "output_type": "stream",
     "text": [
      "ML-L-Code-Automation\n",
      "ML-M-Configuration\n",
      "ML-M-Studying\n",
      "ML-M-Test-Automation\n",
      "ML-L-Code-Automation\n",
      "ML-M-Configuration\n",
      "ML-M-Studying\n",
      "ML-M-Test-Automation\n",
      "ML-L-Code-Automation\n",
      "ML-M-Configuration\n",
      "ML-M-Studying\n",
      "ML-M-Test-Automation\n",
      "ML-L-Code-Automation\n",
      "ML-M-Configuration\n",
      "ML-M-Studying\n",
      "ML-M-Test-Automation\n",
      "ML-L-Code-Automation\n",
      "ML-M-Configuration\n",
      "ML-M-Studying\n",
      "ML-M-Test-Automation\n",
      "ML-L-Code-Automation\n",
      "ML-M-Configuration\n",
      "ML-M-Studying\n",
      "ML-M-Test-Automation\n",
      "ML-L-Code-Automation\n",
      "ML-M-Configuration\n",
      "ML-M-Studying\n",
      "ML-M-Test-Automation\n",
      "ML-L-Code-Automation\n",
      "ML-M-Configuration\n",
      "ML-M-Studying\n",
      "ML-M-Test-Automation\n",
      "ML-L-Code-Automation\n",
      "ML-M-Configuration\n",
      "ML-M-Studying\n",
      "ML-M-Test-Automation\n",
      "ML-L-Code-Automation\n",
      "ML-M-Configuration\n",
      "ML-M-Studying\n",
      "ML-M-Test-Automation\n",
      "ML-L-Code-Automation\n",
      "ML-M-Configuration\n",
      "ML-M-Studying\n",
      "ML-M-Test-Automation\n",
      "ML-L-Code-Automation\n",
      "ML-M-Configuration\n",
      "ML-M-Studying\n",
      "ML-M-Test-Automation\n",
      "ML-L-Code-Automation\n",
      "ML-M-Configuration\n",
      "ML-M-Studying\n",
      "ML-M-Test-Automation\n",
      "ML-L-Code-Automation\n",
      "ML-M-Configuration\n",
      "ML-M-Studying\n",
      "ML-M-Test-Automation\n",
      "ML-L-Code-Automation\n",
      "ML-M-Configuration\n",
      "ML-M-Studying\n",
      "ML-M-Test-Automation\n",
      "ML-L-Code-Automation\n",
      "ML-M-Configuration\n",
      "ML-M-Studying\n",
      "ML-M-Test-Automation\n",
      "ML-L-Code-Automation\n",
      "ML-M-Configuration\n",
      "ML-M-Studying\n",
      "ML-M-Test-Automation\n",
      "ML-L-Code-Automation\n",
      "ML-M-Configuration\n",
      "ML-M-Studying\n",
      "ML-M-Test-Automation\n",
      "ML-L-Code-Automation\n",
      "ML-M-Configuration\n",
      "ML-M-Studying\n",
      "ML-M-Test-Automation\n",
      "ML-L-Code-Automation\n",
      "ML-M-Configuration\n",
      "ML-M-Studying\n",
      "ML-M-Test-Automation\n",
      "ML-L-Code-Automation\n",
      "ML-M-Configuration\n",
      "ML-M-Studying\n",
      "ML-M-Test-Automation\n",
      "ML-L-Code-Automation\n",
      "ML-M-Configuration\n",
      "ML-M-Studying\n",
      "ML-M-Test-Automation\n",
      "ML-L-Code-Automation\n",
      "ML-M-Configuration\n",
      "ML-M-Studying\n",
      "ML-M-Test-Automation\n",
      "ML-L-Code-Automation\n",
      "ML-M-Configuration\n",
      "ML-M-Studying\n",
      "ML-M-Test-Automation\n",
      "ML-L-Code-Automation\n",
      "ML-M-Configuration\n",
      "ML-M-Studying\n",
      "ML-M-Test-Automation\n",
      "Manual prediction was:\u001b[1m\u001b[94m 8.0 \u001b[0m\n"
     ]
    },
    {
     "data": {
      "text/html": [
       "<div>\n",
       "<style scoped>\n",
       "    .dataframe tbody tr th:only-of-type {\n",
       "        vertical-align: middle;\n",
       "    }\n",
       "\n",
       "    .dataframe tbody tr th {\n",
       "        vertical-align: top;\n",
       "    }\n",
       "\n",
       "    .dataframe thead th {\n",
       "        text-align: right;\n",
       "    }\n",
       "</style>\n",
       "<table border=\"1\" class=\"dataframe\">\n",
       "  <thead>\n",
       "    <tr style=\"text-align: right;\">\n",
       "      <th></th>\n",
       "      <th>ML-L-Code-Automation</th>\n",
       "      <th>ML-L-Code-Business</th>\n",
       "      <th>ML-L-Code-UI</th>\n",
       "      <th>ML-L-Studying</th>\n",
       "      <th>ML-L-Test-Automation</th>\n",
       "      <th>ML-L-Test-Manual</th>\n",
       "      <th>ML-M-Code-Automation</th>\n",
       "      <th>ML-M-Code-Business</th>\n",
       "      <th>ML-M-Code-Script</th>\n",
       "      <th>ML-M-Code-UI</th>\n",
       "      <th>...</th>\n",
       "      <th>ML-S-Code-Automation</th>\n",
       "      <th>ML-S-Code-Business</th>\n",
       "      <th>ML-S-Code-Script</th>\n",
       "      <th>ML-S-Code-UI</th>\n",
       "      <th>ML-S-Communication</th>\n",
       "      <th>ML-S-Configuration</th>\n",
       "      <th>ML-S-Studying</th>\n",
       "      <th>ML-S-Test-Automation</th>\n",
       "      <th>ML-S-Test-Manual</th>\n",
       "      <th>build-investigation</th>\n",
       "    </tr>\n",
       "  </thead>\n",
       "  <tbody>\n",
       "    <tr>\n",
       "      <th>0</th>\n",
       "      <td>1.0</td>\n",
       "      <td>0.0</td>\n",
       "      <td>0.0</td>\n",
       "      <td>0.0</td>\n",
       "      <td>0.0</td>\n",
       "      <td>0.0</td>\n",
       "      <td>0.0</td>\n",
       "      <td>0.0</td>\n",
       "      <td>0.0</td>\n",
       "      <td>0.0</td>\n",
       "      <td>...</td>\n",
       "      <td>0.0</td>\n",
       "      <td>0.0</td>\n",
       "      <td>0.0</td>\n",
       "      <td>0.0</td>\n",
       "      <td>0.0</td>\n",
       "      <td>0.0</td>\n",
       "      <td>0.0</td>\n",
       "      <td>0.0</td>\n",
       "      <td>0.0</td>\n",
       "      <td>0.0</td>\n",
       "    </tr>\n",
       "  </tbody>\n",
       "</table>\n",
       "<p>1 rows × 25 columns</p>\n",
       "</div>"
      ],
      "text/plain": [
       "   ML-L-Code-Automation  ML-L-Code-Business  ML-L-Code-UI  ML-L-Studying  \\\n",
       "0                   1.0                 0.0           0.0            0.0   \n",
       "\n",
       "   ML-L-Test-Automation  ML-L-Test-Manual  ML-M-Code-Automation  \\\n",
       "0                   0.0               0.0                   0.0   \n",
       "\n",
       "   ML-M-Code-Business  ML-M-Code-Script  ML-M-Code-UI         ...           \\\n",
       "0                 0.0               0.0           0.0         ...            \n",
       "\n",
       "   ML-S-Code-Automation  ML-S-Code-Business  ML-S-Code-Script  ML-S-Code-UI  \\\n",
       "0                   0.0                 0.0               0.0           0.0   \n",
       "\n",
       "   ML-S-Communication  ML-S-Configuration  ML-S-Studying  \\\n",
       "0                 0.0                 0.0            0.0   \n",
       "\n",
       "   ML-S-Test-Automation  ML-S-Test-Manual  build-investigation  \n",
       "0                   0.0               0.0                  0.0  \n",
       "\n",
       "[1 rows x 25 columns]"
      ]
     },
     "execution_count": 126,
     "metadata": {},
     "output_type": "execute_result"
    }
   ],
   "source": [
    "# for column in prediction_df.columns:\n",
    "#     prediction_df.loc[0, column] = 0\n",
    "#     for label in issue.fields.labels:\n",
    "#         #prediction_df.loc[0, label] = 1\n",
    "#         col = label[5:]\n",
    "#         if 'ML-S-' in label:\n",
    "#             prediction_df.loc[0, col] = ML_S*ML_Coef\n",
    "#         elif 'ML-M-' in label:\n",
    "#             prediction_df.loc[0, col] = ML_M*ML_Coef\n",
    "#         else:\n",
    "#             prediction_df.loc[0, col] = ML_L*ML_Coef\n",
    "\n",
    "# print('Manual prediction was:\\033[1m\\033[94m', issue.fields.customfield_10049,'\\033[0m')\n",
    "for column in prediction_df.columns:\n",
    "    prediction_df.loc[0, column] = 0\n",
    "    for label in issue.fields.labels:\n",
    "        if 'ML-' in label:\n",
    "            #print(label)\n",
    "            prediction_df.loc[0, label] = 1\n",
    "\n",
    "print('Manual prediction was:\\033[1m\\033[94m', issue.fields.customfield_10049,'\\033[0m')\n",
    "prediction_df"
   ]
  },
  {
   "cell_type": "markdown",
   "metadata": {},
   "source": [
    "Create predict points function to use various models for prediction:"
   ]
  },
  {
   "cell_type": "code",
   "execution_count": 119,
   "metadata": {},
   "outputs": [],
   "source": [
    "import operator\n",
    "\n",
    "def predict_points(model, input_df): \n",
    "    classifier = OneVsRestClassifier(model)\n",
    "    classifier.fit(X_tr, y_tr)\n",
    "    predict = classifier.predict(prediction_df)\n",
    "    if hasattr(model, 'predict_proba'):\n",
    "        predict_prop = classifier.predict_proba(prediction_df)\n",
    "        prediction = one_hot_decode(predict[0])\n",
    "        index, value = max(enumerate(predict_prop[0]), key=operator.itemgetter(1))\n",
    "        print('\\033[1m',type(model).__name__, '\\033[0mprediction is\\033[1m\\033[94m', \n",
    "            F(index+2), '\\033[0mpoints with\\033[1m\\033[94m', round(value,2)*100,'%\\033[0m probability')\n",
    "    else:\n",
    "        prediction = one_hot_decode(predict[0])\n",
    "        print('\\033[1m',type(model).__name__, '\\033[0mprediction is\\033[1m\\033[94m', \n",
    "            prediction, '\\033[0mpoints')\n",
    "     "
   ]
  },
  {
   "cell_type": "markdown",
   "metadata": {},
   "source": [
    "Predict using various prediction models:"
   ]
  },
  {
   "cell_type": "code",
   "execution_count": 121,
   "metadata": {},
   "outputs": [
    {
     "data": {
      "text/html": [
       "<div>\n",
       "<style scoped>\n",
       "    .dataframe tbody tr th:only-of-type {\n",
       "        vertical-align: middle;\n",
       "    }\n",
       "\n",
       "    .dataframe tbody tr th {\n",
       "        vertical-align: top;\n",
       "    }\n",
       "\n",
       "    .dataframe thead th {\n",
       "        text-align: right;\n",
       "    }\n",
       "</style>\n",
       "<table border=\"1\" class=\"dataframe\">\n",
       "  <thead>\n",
       "    <tr style=\"text-align: right;\">\n",
       "      <th></th>\n",
       "      <th>ML-L-Code-Automation</th>\n",
       "      <th>ML-L-Code-Business</th>\n",
       "      <th>ML-L-Code-UI</th>\n",
       "      <th>ML-L-Studying</th>\n",
       "      <th>ML-L-Test-Automation</th>\n",
       "      <th>ML-L-Test-Manual</th>\n",
       "      <th>ML-M-Code-Automation</th>\n",
       "      <th>ML-M-Code-Business</th>\n",
       "      <th>ML-M-Code-Script</th>\n",
       "      <th>ML-M-Code-UI</th>\n",
       "      <th>...</th>\n",
       "      <th>ML-S-Code-Automation</th>\n",
       "      <th>ML-S-Code-Business</th>\n",
       "      <th>ML-S-Code-Script</th>\n",
       "      <th>ML-S-Code-UI</th>\n",
       "      <th>ML-S-Communication</th>\n",
       "      <th>ML-S-Configuration</th>\n",
       "      <th>ML-S-Studying</th>\n",
       "      <th>ML-S-Test-Automation</th>\n",
       "      <th>ML-S-Test-Manual</th>\n",
       "      <th>build-investigation</th>\n",
       "    </tr>\n",
       "  </thead>\n",
       "  <tbody>\n",
       "    <tr>\n",
       "      <th>0</th>\n",
       "      <td>1.0</td>\n",
       "      <td>0.0</td>\n",
       "      <td>0.0</td>\n",
       "      <td>0.0</td>\n",
       "      <td>0.0</td>\n",
       "      <td>0.0</td>\n",
       "      <td>0.0</td>\n",
       "      <td>0.0</td>\n",
       "      <td>0.0</td>\n",
       "      <td>0.0</td>\n",
       "      <td>...</td>\n",
       "      <td>0.0</td>\n",
       "      <td>0.0</td>\n",
       "      <td>0.0</td>\n",
       "      <td>0.0</td>\n",
       "      <td>0.0</td>\n",
       "      <td>0.0</td>\n",
       "      <td>0.0</td>\n",
       "      <td>0.0</td>\n",
       "      <td>0.0</td>\n",
       "      <td>1.0</td>\n",
       "    </tr>\n",
       "  </tbody>\n",
       "</table>\n",
       "<p>1 rows × 25 columns</p>\n",
       "</div>"
      ],
      "text/plain": [
       "   ML-L-Code-Automation  ML-L-Code-Business  ML-L-Code-UI  ML-L-Studying  \\\n",
       "0                   1.0                 0.0           0.0            0.0   \n",
       "\n",
       "   ML-L-Test-Automation  ML-L-Test-Manual  ML-M-Code-Automation  \\\n",
       "0                   0.0               0.0                   0.0   \n",
       "\n",
       "   ML-M-Code-Business  ML-M-Code-Script  ML-M-Code-UI         ...           \\\n",
       "0                 0.0               0.0           0.0         ...            \n",
       "\n",
       "   ML-S-Code-Automation  ML-S-Code-Business  ML-S-Code-Script  ML-S-Code-UI  \\\n",
       "0                   0.0                 0.0               0.0           0.0   \n",
       "\n",
       "   ML-S-Communication  ML-S-Configuration  ML-S-Studying  \\\n",
       "0                 0.0                 0.0            0.0   \n",
       "\n",
       "   ML-S-Test-Automation  ML-S-Test-Manual  build-investigation  \n",
       "0                   0.0               0.0                  1.0  \n",
       "\n",
       "[1 rows x 25 columns]"
      ]
     },
     "execution_count": 121,
     "metadata": {},
     "output_type": "execute_result"
    }
   ],
   "source": [
    "prediction_df"
   ]
  },
  {
   "cell_type": "code",
   "execution_count": 120,
   "metadata": {},
   "outputs": [
    {
     "ename": "ValueError",
     "evalue": "X has 25 features per sample; expecting 24",
     "output_type": "error",
     "traceback": [
      "\u001b[1;31m---------------------------------------------------------------------------\u001b[0m",
      "\u001b[1;31mValueError\u001b[0m                                Traceback (most recent call last)",
      "\u001b[1;32m<ipython-input-120-fb08dc66386c>\u001b[0m in \u001b[0;36m<module>\u001b[1;34m\u001b[0m\n\u001b[1;32m----> 1\u001b[1;33m \u001b[0mpredict_points\u001b[0m\u001b[1;33m(\u001b[0m\u001b[0mlogistic\u001b[0m\u001b[1;33m,\u001b[0m \u001b[0mprediction_df\u001b[0m\u001b[1;33m)\u001b[0m\u001b[1;33m\u001b[0m\u001b[1;33m\u001b[0m\u001b[0m\n\u001b[0m\u001b[0;32m      2\u001b[0m \u001b[0mpredict_points\u001b[0m\u001b[1;33m(\u001b[0m\u001b[0msvc\u001b[0m\u001b[1;33m,\u001b[0m \u001b[0mprediction_df\u001b[0m\u001b[1;33m)\u001b[0m\u001b[1;33m\u001b[0m\u001b[1;33m\u001b[0m\u001b[0m\n\u001b[0;32m      3\u001b[0m \u001b[0mpredict_points\u001b[0m\u001b[1;33m(\u001b[0m\u001b[0mlinearSVC\u001b[0m\u001b[1;33m,\u001b[0m \u001b[0mprediction_df\u001b[0m\u001b[1;33m)\u001b[0m\u001b[1;33m\u001b[0m\u001b[1;33m\u001b[0m\u001b[0m\n\u001b[0;32m      4\u001b[0m \u001b[0mpredict_points\u001b[0m\u001b[1;33m(\u001b[0m\u001b[0madaBoost\u001b[0m\u001b[1;33m,\u001b[0m \u001b[0mprediction_df\u001b[0m\u001b[1;33m)\u001b[0m\u001b[1;33m\u001b[0m\u001b[1;33m\u001b[0m\u001b[0m\n",
      "\u001b[1;32m<ipython-input-119-bf55a499bab4>\u001b[0m in \u001b[0;36mpredict_points\u001b[1;34m(model, input_df)\u001b[0m\n\u001b[0;32m      4\u001b[0m     \u001b[0mclassifier\u001b[0m \u001b[1;33m=\u001b[0m \u001b[0mOneVsRestClassifier\u001b[0m\u001b[1;33m(\u001b[0m\u001b[0mmodel\u001b[0m\u001b[1;33m)\u001b[0m\u001b[1;33m\u001b[0m\u001b[1;33m\u001b[0m\u001b[0m\n\u001b[0;32m      5\u001b[0m     \u001b[0mclassifier\u001b[0m\u001b[1;33m.\u001b[0m\u001b[0mfit\u001b[0m\u001b[1;33m(\u001b[0m\u001b[0mX_tr\u001b[0m\u001b[1;33m,\u001b[0m \u001b[0my_tr\u001b[0m\u001b[1;33m)\u001b[0m\u001b[1;33m\u001b[0m\u001b[1;33m\u001b[0m\u001b[0m\n\u001b[1;32m----> 6\u001b[1;33m     \u001b[0mpredict\u001b[0m \u001b[1;33m=\u001b[0m \u001b[0mclassifier\u001b[0m\u001b[1;33m.\u001b[0m\u001b[0mpredict\u001b[0m\u001b[1;33m(\u001b[0m\u001b[0mprediction_df\u001b[0m\u001b[1;33m)\u001b[0m\u001b[1;33m\u001b[0m\u001b[1;33m\u001b[0m\u001b[0m\n\u001b[0m\u001b[0;32m      7\u001b[0m     \u001b[1;32mif\u001b[0m \u001b[0mhasattr\u001b[0m\u001b[1;33m(\u001b[0m\u001b[0mmodel\u001b[0m\u001b[1;33m,\u001b[0m \u001b[1;34m'predict_proba'\u001b[0m\u001b[1;33m)\u001b[0m\u001b[1;33m:\u001b[0m\u001b[1;33m\u001b[0m\u001b[1;33m\u001b[0m\u001b[0m\n\u001b[0;32m      8\u001b[0m         \u001b[0mpredict_prop\u001b[0m \u001b[1;33m=\u001b[0m \u001b[0mclassifier\u001b[0m\u001b[1;33m.\u001b[0m\u001b[0mpredict_proba\u001b[0m\u001b[1;33m(\u001b[0m\u001b[0mprediction_df\u001b[0m\u001b[1;33m)\u001b[0m\u001b[1;33m\u001b[0m\u001b[1;33m\u001b[0m\u001b[0m\n",
      "\u001b[1;32mE:\\ProgramData\\Anaconda3\\lib\\site-packages\\sklearn\\multiclass.py\u001b[0m in \u001b[0;36mpredict\u001b[1;34m(self, X)\u001b[0m\n\u001b[0;32m    307\u001b[0m             \u001b[0mindptr\u001b[0m \u001b[1;33m=\u001b[0m \u001b[0marray\u001b[0m\u001b[1;33m.\u001b[0m\u001b[0marray\u001b[0m\u001b[1;33m(\u001b[0m\u001b[1;34m'i'\u001b[0m\u001b[1;33m,\u001b[0m \u001b[1;33m[\u001b[0m\u001b[1;36m0\u001b[0m\u001b[1;33m]\u001b[0m\u001b[1;33m)\u001b[0m\u001b[1;33m\u001b[0m\u001b[1;33m\u001b[0m\u001b[0m\n\u001b[0;32m    308\u001b[0m             \u001b[1;32mfor\u001b[0m \u001b[0me\u001b[0m \u001b[1;32min\u001b[0m \u001b[0mself\u001b[0m\u001b[1;33m.\u001b[0m\u001b[0mestimators_\u001b[0m\u001b[1;33m:\u001b[0m\u001b[1;33m\u001b[0m\u001b[1;33m\u001b[0m\u001b[0m\n\u001b[1;32m--> 309\u001b[1;33m                 \u001b[0mindices\u001b[0m\u001b[1;33m.\u001b[0m\u001b[0mextend\u001b[0m\u001b[1;33m(\u001b[0m\u001b[0mnp\u001b[0m\u001b[1;33m.\u001b[0m\u001b[0mwhere\u001b[0m\u001b[1;33m(\u001b[0m\u001b[0m_predict_binary\u001b[0m\u001b[1;33m(\u001b[0m\u001b[0me\u001b[0m\u001b[1;33m,\u001b[0m \u001b[0mX\u001b[0m\u001b[1;33m)\u001b[0m \u001b[1;33m>\u001b[0m \u001b[0mthresh\u001b[0m\u001b[1;33m)\u001b[0m\u001b[1;33m[\u001b[0m\u001b[1;36m0\u001b[0m\u001b[1;33m]\u001b[0m\u001b[1;33m)\u001b[0m\u001b[1;33m\u001b[0m\u001b[1;33m\u001b[0m\u001b[0m\n\u001b[0m\u001b[0;32m    310\u001b[0m                 \u001b[0mindptr\u001b[0m\u001b[1;33m.\u001b[0m\u001b[0mappend\u001b[0m\u001b[1;33m(\u001b[0m\u001b[0mlen\u001b[0m\u001b[1;33m(\u001b[0m\u001b[0mindices\u001b[0m\u001b[1;33m)\u001b[0m\u001b[1;33m)\u001b[0m\u001b[1;33m\u001b[0m\u001b[1;33m\u001b[0m\u001b[0m\n\u001b[0;32m    311\u001b[0m             \u001b[0mdata\u001b[0m \u001b[1;33m=\u001b[0m \u001b[0mnp\u001b[0m\u001b[1;33m.\u001b[0m\u001b[0mones\u001b[0m\u001b[1;33m(\u001b[0m\u001b[0mlen\u001b[0m\u001b[1;33m(\u001b[0m\u001b[0mindices\u001b[0m\u001b[1;33m)\u001b[0m\u001b[1;33m,\u001b[0m \u001b[0mdtype\u001b[0m\u001b[1;33m=\u001b[0m\u001b[0mint\u001b[0m\u001b[1;33m)\u001b[0m\u001b[1;33m\u001b[0m\u001b[1;33m\u001b[0m\u001b[0m\n",
      "\u001b[1;32mE:\\ProgramData\\Anaconda3\\lib\\site-packages\\sklearn\\multiclass.py\u001b[0m in \u001b[0;36m_predict_binary\u001b[1;34m(estimator, X)\u001b[0m\n\u001b[0;32m     93\u001b[0m         \u001b[1;32mreturn\u001b[0m \u001b[0mestimator\u001b[0m\u001b[1;33m.\u001b[0m\u001b[0mpredict\u001b[0m\u001b[1;33m(\u001b[0m\u001b[0mX\u001b[0m\u001b[1;33m)\u001b[0m\u001b[1;33m\u001b[0m\u001b[1;33m\u001b[0m\u001b[0m\n\u001b[0;32m     94\u001b[0m     \u001b[1;32mtry\u001b[0m\u001b[1;33m:\u001b[0m\u001b[1;33m\u001b[0m\u001b[1;33m\u001b[0m\u001b[0m\n\u001b[1;32m---> 95\u001b[1;33m         \u001b[0mscore\u001b[0m \u001b[1;33m=\u001b[0m \u001b[0mnp\u001b[0m\u001b[1;33m.\u001b[0m\u001b[0mravel\u001b[0m\u001b[1;33m(\u001b[0m\u001b[0mestimator\u001b[0m\u001b[1;33m.\u001b[0m\u001b[0mdecision_function\u001b[0m\u001b[1;33m(\u001b[0m\u001b[0mX\u001b[0m\u001b[1;33m)\u001b[0m\u001b[1;33m)\u001b[0m\u001b[1;33m\u001b[0m\u001b[1;33m\u001b[0m\u001b[0m\n\u001b[0m\u001b[0;32m     96\u001b[0m     \u001b[1;32mexcept\u001b[0m \u001b[1;33m(\u001b[0m\u001b[0mAttributeError\u001b[0m\u001b[1;33m,\u001b[0m \u001b[0mNotImplementedError\u001b[0m\u001b[1;33m)\u001b[0m\u001b[1;33m:\u001b[0m\u001b[1;33m\u001b[0m\u001b[1;33m\u001b[0m\u001b[0m\n\u001b[0;32m     97\u001b[0m         \u001b[1;31m# probabilities of the positive class\u001b[0m\u001b[1;33m\u001b[0m\u001b[1;33m\u001b[0m\u001b[1;33m\u001b[0m\u001b[0m\n",
      "\u001b[1;32mE:\\ProgramData\\Anaconda3\\lib\\site-packages\\sklearn\\linear_model\\base.py\u001b[0m in \u001b[0;36mdecision_function\u001b[1;34m(self, X)\u001b[0m\n\u001b[0;32m    260\u001b[0m         \u001b[1;32mif\u001b[0m \u001b[0mX\u001b[0m\u001b[1;33m.\u001b[0m\u001b[0mshape\u001b[0m\u001b[1;33m[\u001b[0m\u001b[1;36m1\u001b[0m\u001b[1;33m]\u001b[0m \u001b[1;33m!=\u001b[0m \u001b[0mn_features\u001b[0m\u001b[1;33m:\u001b[0m\u001b[1;33m\u001b[0m\u001b[1;33m\u001b[0m\u001b[0m\n\u001b[0;32m    261\u001b[0m             raise ValueError(\"X has %d features per sample; expecting %d\"\n\u001b[1;32m--> 262\u001b[1;33m                              % (X.shape[1], n_features))\n\u001b[0m\u001b[0;32m    263\u001b[0m \u001b[1;33m\u001b[0m\u001b[0m\n\u001b[0;32m    264\u001b[0m         scores = safe_sparse_dot(X, self.coef_.T,\n",
      "\u001b[1;31mValueError\u001b[0m: X has 25 features per sample; expecting 24"
     ]
    }
   ],
   "source": [
    "predict_points(logistic, prediction_df)\n",
    "predict_points(svc, prediction_df)\n",
    "predict_points(linearSVC, prediction_df)\n",
    "predict_points(adaBoost, prediction_df)\n"
   ]
  },
  {
   "cell_type": "code",
   "execution_count": null,
   "metadata": {},
   "outputs": [],
   "source": []
  },
  {
   "cell_type": "markdown",
   "metadata": {},
   "source": [
    "### Conclusion"
   ]
  },
  {
   "cell_type": "markdown",
   "metadata": {},
   "source": [
    " - VotingClassifier, GaussianNB and SVC seems to perform very well\n",
    " - The data is not well defined and dimension could be reduced\n",
    " - There could be weightage for each Label to make prediction more accurate\n",
    " - Not enough data defined"
   ]
  },
  {
   "cell_type": "code",
   "execution_count": null,
   "metadata": {},
   "outputs": [],
   "source": [
    "\n"
   ]
  }
 ],
 "metadata": {
  "kernelspec": {
   "display_name": "Python 3",
   "language": "python",
   "name": "python3"
  },
  "language_info": {
   "codemirror_mode": {
    "name": "ipython",
    "version": 3
   },
   "file_extension": ".py",
   "mimetype": "text/x-python",
   "name": "python",
   "nbconvert_exporter": "python",
   "pygments_lexer": "ipython3",
   "version": "3.7.1"
  }
 },
 "nbformat": 4,
 "nbformat_minor": 2
}
